{
 "cells": [
  {
   "cell_type": "markdown",
   "id": "01f1ffe0",
   "metadata": {},
   "source": [
    "# Support Vector Machines with String Kernels\n",
    "\n",
    "An example of how to build SVM models with our string kernels by just adding 2 lines of code to a standard SVM pipeline for ancestry classification.\n",
    "\n",
    "The computation that is used is described in detail in [our paper](https://www.biorxiv.org/content/10.1101/2021.09.19.460980v1) and if you end up using this in your research we kindly ask you to cite us! :)\n",
    "\n",
    "<img align=\"left\" caption=\"String Kernel Computations\" src=\"doc/fig/triangular_numbers.png\" width=\"800\" height=\"400\">"
   ]
  },
  {
   "cell_type": "markdown",
   "id": "3f9a0534",
   "metadata": {},
   "source": [
    "Let's start by loading the data. The data is made up but based on patterns from real human samples.\n"
   ]
  },
  {
   "cell_type": "code",
   "execution_count": 2,
   "id": "bc4cdc4f",
   "metadata": {},
   "outputs": [],
   "source": [
    "import numpy as np\n",
    "samples_train = np.load(\"data/samples_train.npy\")\n",
    "samples_validation = np.load(\"data/samples_validation.npy\")\n",
    "ancestry_train = np.load(\"data/ancestry_train.npy\")\n",
    "ancestry_validation = np.load(\"data/ancestry_validation.npy\")\n",
    "reference = np.load(\"data/reference.npy\")\n",
    "populations = np.load(\"data/populations.npy\")\n",
    "\n",
    "print(\"number of training samples:\", len(samples_train))\n",
    "print(\"number of validation samples:\", len(samples_validation))\n",
    "print(\"Sequence length:\", len(reference))\n",
    "print(\"Number of ancestries:\", len(populations))"
   ]
  },
  {
   "cell_type": "markdown",
   "id": "1713ec7e",
   "metadata": {},
   "source": [
    "The sequences look like this, where the columns is a specific SNP position and columns are samples."
   ]
  },
  {
   "cell_type": "code",
   "execution_count": 4,
   "id": "7ef41441",
   "metadata": {},
   "outputs": [
    {
     "data": {
      "text/plain": [
       "array([['T', 'T', 'A', ..., 'T', 'G', 'G'],\n",
       "       ['T', 'T', 'A', ..., 'T', 'G', 'G'],\n",
       "       ['T', 'A', 'A', ..., 'T', 'G', 'G'],\n",
       "       ...,\n",
       "       ['T', 'A', 'A', ..., 'T', 'C', 'G'],\n",
       "       ['A', 'T', 'T', ..., 'T', 'G', 'G'],\n",
       "       ['A', 'T', 'T', ..., 'T', 'G', 'G']], dtype='<U1')"
      ]
     },
     "execution_count": 4,
     "metadata": {},
     "output_type": "execute_result"
    }
   ],
   "source": [
    "samples_train"
   ]
  },
  {
   "cell_type": "markdown",
   "id": "61163b9d",
   "metadata": {},
   "source": [
    "We can turn them into binary format by matching it with the reference file s.t. 0s mean you match the reference, 1s means you don't."
   ]
  },
  {
   "cell_type": "code",
   "execution_count": 5,
   "id": "6b0a6339",
   "metadata": {},
   "outputs": [
    {
     "data": {
      "text/plain": [
       "array([[0, 0, 0, ..., 0, 0, 0],\n",
       "       [0, 0, 0, ..., 0, 0, 0],\n",
       "       [0, 1, 0, ..., 0, 0, 0],\n",
       "       ...,\n",
       "       [0, 1, 0, ..., 0, 1, 0],\n",
       "       [1, 0, 1, ..., 0, 0, 0],\n",
       "       [1, 0, 1, ..., 0, 0, 0]])"
      ]
     },
     "execution_count": 5,
     "metadata": {},
     "output_type": "execute_result"
    }
   ],
   "source": [
    "X_train = (samples_train != reference).astype(int)\n",
    "X_train"
   ]
  },
  {
   "cell_type": "markdown",
   "id": "33903a5a",
   "metadata": {},
   "source": [
    "Our ancestry labels are currently in letter format"
   ]
  },
  {
   "cell_type": "code",
   "execution_count": 6,
   "id": "d01232db",
   "metadata": {},
   "outputs": [
    {
     "data": {
      "image/png": "[encoded data removed]",
      "text/plain": [
       "<Figure size 432x288 with 1 Axes>"
      ]
     },
     "metadata": {},
     "output_type": "display_data"
    },
    {
     "data": {
      "text/plain": [
       "array(['Arryn', 'Baratheon', 'Greyjoy', 'Lannister', 'Stark', 'Targaryen'],\n",
       "      dtype='<U9')"
      ]
     },
     "execution_count": 6,
     "metadata": {},
     "output_type": "execute_result"
    }
   ],
   "source": [
    "from src.utils import plot_label_distribution\n",
    "\n",
    "plot_label_distribution(ancestry_train)\n",
    "np.unique(ancestry_train)"
   ]
  },
  {
   "cell_type": "markdown",
   "id": "a62becab",
   "metadata": {},
   "source": [
    "But we can change that. Here we encode each ancestry by a number on the interval [0,number_of_ancestries]"
   ]
  },
  {
   "cell_type": "code",
   "execution_count": 7,
   "id": "a029d0cf",
   "metadata": {},
   "outputs": [
    {
     "data": {
      "text/plain": [
       "array([0, 1, 2, 3, 4, 5])"
      ]
     },
     "execution_count": 7,
     "metadata": {},
     "output_type": "execute_result"
    }
   ],
   "source": [
    "from sklearn import preprocessing\n",
    "le = preprocessing.LabelEncoder()\n",
    "le.fit(ancestry_train)\n",
    "y_train = le.transform(ancestry_train)\n",
    "np.unique(y_train)"
   ]
  },
  {
   "cell_type": "markdown",
   "id": "c6af833a",
   "metadata": {},
   "source": [
    "And let's repeat the steps above with the validation data"
   ]
  },
  {
   "cell_type": "code",
   "execution_count": 8,
   "id": "6c980104",
   "metadata": {},
   "outputs": [],
   "source": [
    "X_val = (samples_validation != reference).astype(int)\n",
    "y_val = le.transform(ancestry_validation)"
   ]
  },
  {
   "cell_type": "markdown",
   "id": "58134181",
   "metadata": {},
   "source": [
    "Now, let's train a **vanilla Support Vector Machine classifier** from the sklearn library to learn to map these sequences to the corresponding ancestries."
   ]
  },
  {
   "cell_type": "code",
   "execution_count": 9,
   "id": "e83340c8",
   "metadata": {},
   "outputs": [
    {
     "name": "stdout",
     "output_type": "stream",
     "text": [
      "Validation Accuracy: 59.17%\n"
     ]
    }
   ],
   "source": [
    "from sklearn import svm\n",
    "from sklearn.metrics import accuracy_score\n",
    "\n",
    "svm_model = svm.SVC()\n",
    "svm_model.fit(X_train, y_train)\n",
    "y_pred = svm_model.predict(X_val)\n",
    "svm_accuracy = accuracy_score(y_val, y_pred)\n",
    "print(\"Validation Accuracy: {}%\".format(np.round(svm_accuracy*100, 2)))"
   ]
  },
  {
   "cell_type": "markdown",
   "id": "a2ef6a8b",
   "metadata": {},
   "source": [
    "Huh! we got a decent accuracy but can we do better?\n",
    "Using the **String Kernel** from [Lodhi et al.](https://www.jmlr.org/papers/volume2/lodhi02a/lodhi02a.pdf) using the computations listed in [our paper](https://www.biorxiv.org/content/10.1101/2021.09.19.460980v1) we get quite the improvement by basically the same code:"
   ]
  },
  {
   "cell_type": "code",
   "execution_count": 10,
   "id": "d5d1e324",
   "metadata": {},
   "outputs": [
    {
     "name": "stdout",
     "output_type": "stream",
     "text": [
      "Validation Accuracy: 69.17%\n"
     ]
    }
   ],
   "source": [
    "from src.kernels import string_kernel\n",
    "\n",
    "svm_sk_model = svm.SVC(kernel=string_kernel)\n",
    "svm_sk_model.fit(X_train, y_train)\n",
    "y_pred = svm_sk_model.predict(X_val)\n",
    "svm_sk_accuracy = accuracy_score(y_val, y_pred)\n",
    "print(\"Validation Accuracy: {}%\".format(np.round(svm_sk_accuracy*100, 2)))"
   ]
  },
  {
   "cell_type": "markdown",
   "id": "b4921c44",
   "metadata": {},
   "source": [
    "As we describe in our paper, there is no law that says Lodhi's string kernel is optimal. Our generalization, the **Polynomial String Kernel**, can squeeze out a few extra percentages as we see here below."
   ]
  },
  {
   "cell_type": "code",
   "execution_count": 11,
   "id": "c20d2470",
   "metadata": {},
   "outputs": [
    {
     "name": "stdout",
     "output_type": "stream",
     "text": [
      "Validation Accuracy: 71.67%\n"
     ]
    }
   ],
   "source": [
    "from src.kernels import polynomial_string_kernel\n",
    "\n",
    "svm_psk_model = svm.SVC(kernel=polynomial_string_kernel)\n",
    "svm_psk_model.fit(X_train, y_train)\n",
    "y_pred = svm_psk_model.predict(X_val)\n",
    "svm_psk_accuracy = accuracy_score(y_val, y_pred)\n",
    "print(\"Validation Accuracy: {}%\".format(np.round(svm_psk_accuracy*100, 2)))"
   ]
  },
  {
   "cell_type": "code",
   "execution_count": 14,
   "id": "b01f411c",
   "metadata": {},
   "outputs": [
    {
     "data": {
      "image/png": "[encoded data removed]",
      "text/plain": [
       "<Figure size 432x288 with 1 Axes>"
      ]
     },
     "metadata": {
      "needs_background": "light"
     },
     "output_type": "display_data"
    }
   ],
   "source": [
    "from src.utils import plot_accuracies\n",
    "\n",
    "plot_accuracies({\n",
    "    \"SVM\\n RBF-Kernel\": svm_accuracy,\n",
    "    \"SVM\\n String-Kernel\": svm_sk_accuracy,\n",
    "    \"SVM\\n Polynomial-String-Kernel\": svm_psk_accuracy\n",
    "})"
   ]
  },
  {
   "cell_type": "code",
   "execution_count": null,
   "id": "66dce1fb",
   "metadata": {},
   "outputs": [],
   "source": []
  }
 ],
 "metadata": {
  "kernelspec": {
   "display_name": "Python 3",
   "language": "python",
   "name": "python3"
  },
  "language_info": {
   "codemirror_mode": {
    "name": "ipython",
    "version": 3
   },
   "file_extension": ".py",
   "mimetype": "text/x-python",
   "name": "python",
   "nbconvert_exporter": "python",
   "pygments_lexer": "ipython3",
   "version": "3.7.10"
  }
 },
 "nbformat": 4,
 "nbformat_minor": 5
}
